{
  "nbformat": 4,
  "nbformat_minor": 0,
  "metadata": {
    "colab": {
      "provenance": [],
      "authorship_tag": "ABX9TyNR7c1MM6Nf6lpeFvNQWEfc",
      "include_colab_link": true
    },
    "kernelspec": {
      "name": "python3",
      "display_name": "Python 3"
    },
    "language_info": {
      "name": "python"
    }
  },
  "cells": [
    {
      "cell_type": "markdown",
      "metadata": {
        "id": "view-in-github",
        "colab_type": "text"
      },
      "source": [
        "<a href=\"https://colab.research.google.com/github/HongTuoi02/NguyenHongTuoi20104071/blob/main/Tu%E1%BA%A7n_6_(ANN).ipynb\" target=\"_parent\"><img src=\"https://colab.research.google.com/assets/colab-badge.svg\" alt=\"Open In Colab\"/></a>"
      ]
    },
    {
      "cell_type": "code",
      "execution_count": null,
      "metadata": {
        "colab": {
          "base_uri": "https://localhost:8080/"
        },
        "id": "DyDQtixj0wud",
        "outputId": "735e657f-e85a-4126-dadf-0ba2c0a792bd"
      },
      "outputs": [
        {
          "output_type": "execute_result",
          "data": {
            "text/plain": [
              "(10000, 28, 28)"
            ]
          },
          "metadata": {},
          "execution_count": 2
        }
      ],
      "source": [
        "from keras.datasets import mnist\n",
        "(train_images, train_labels),(test_images,test_labels)= mnist.load_data()\n",
        "test_images.shape #kiemtradulieu\n"
      ]
    },
    {
      "cell_type": "code",
      "source": [
        "from keras.datasets import mnist\n",
        "(train_images, train_labels), (test_images, test_labels) = mnist.load_data()\n",
        "import matplotlib.pyplot as plt\n",
        "plt.imshow(train_images[8])\n",
        "plt.show()\n",
        "print(train_labels[8])\n"
      ],
      "metadata": {
        "id": "uPPCD7xL9aMP",
        "colab": {
          "base_uri": "https://localhost:8080/",
          "height": 282
        },
        "outputId": "fb850f07-7e8d-4a33-858f-3b944fe78fd2"
      },
      "execution_count": null,
      "outputs": [
        {
          "output_type": "display_data",
          "data": {
            "text/plain": [
              "<Figure size 432x288 with 1 Axes>"
            ],
            "image/png": "[encoded data removed]"
          },
          "metadata": {
            "needs_background": "light"
          }
        },
        {
          "output_type": "stream",
          "name": "stdout",
          "text": [
            "1\n"
          ]
        }
      ]
    },
    {
      "cell_type": "code",
      "source": [
        "from keras.datasets import mnist\n",
        "(train_images, train_labels), (test_images, test_labels) = mnist.load_data()\n",
        "from keras import models\n",
        "from keras import layers\n",
        "model = models.Sequential()\n",
        "model.add(layers.Dense(512,activation = 'relu',input_shape = (28*28,)))\n",
        "model.add(layers.Dense(10,activation = 'softmax'))\n",
        "#model.summary()\n",
        "train_images = train_images.reshape((60000,28*28))\n",
        "train_images = train_images.astype('float32')/255\n",
        "test_images = test_images.reshape((10000,28*28))\n",
        "test_images = test_images.astype('float32')/255\n",
        "test_images.shape\n",
        "\n"
      ],
      "metadata": {
        "id": "NihLnXK5CcZG",
        "colab": {
          "base_uri": "https://localhost:8080/"
        },
        "outputId": "73c4cab2-7e10-4b9c-8b1c-544fabb91556"
      },
      "execution_count": null,
      "outputs": [
        {
          "output_type": "execute_result",
          "data": {
            "text/plain": [
              "(10000, 784)"
            ]
          },
          "metadata": {},
          "execution_count": 8
        }
      ]
    },
    {
      "cell_type": "code",
      "source": [
        "from keras.datasets import mnist\n",
        "(train_images, train_labels), (test_images, test_labels) = mnist.load_data()\n",
        "from keras import models\n",
        "from keras import layers\n",
        "model = models.Sequential()\n",
        "model.add(layers.Dense(512,activation = 'relu',input_shape = (28*28,)))\n",
        "model.add(layers.Dense(10,activation = 'softmax'))\n",
        "#model.summary()\n",
        "train_images = train_images.reshape((60000,28*28))\n",
        "train_images = train_images.astype('float32')/255\n",
        "test_images = test_images.reshape((10000,28*28))\n",
        "test_images = test_images.astype('float32')/255\n",
        "from keras.utils import to_categorical\n",
        "train_labels = to_categorical(train_labels)\n",
        "test_labels = to_categorical(test_labels)\n"
      ],
      "metadata": {
        "id": "I2_BshZC5Zpk"
      },
      "execution_count": null,
      "outputs": []
    },
    {
      "cell_type": "code",
      "source": [
        "\n",
        "from keras.metrics import metrics\n",
        "model.compile(optimizer ='rmsprop',loss='categorical_crossentropy',metrics=['accuracy'])\n",
        "model.fit(train_images,train_labels,epochs=2, batch_size= 128)"
      ],
      "metadata": {
        "colab": {
          "base_uri": "https://localhost:8080/"
        },
        "id": "IPGGu92M4Bke",
        "outputId": "5fc0423f-eb6a-415e-9ea2-f3ff50eb24d9"
      },
      "execution_count": null,
      "outputs": [
        {
          "output_type": "stream",
          "name": "stdout",
          "text": [
            "Epoch 1/2\n",
            "469/469 [==============================] - 6s 11ms/step - loss: 0.2536 - accuracy: 0.9270\n",
            "Epoch 2/2\n",
            "469/469 [==============================] - 5s 10ms/step - loss: 0.1041 - accuracy: 0.9696\n"
          ]
        },
        {
          "output_type": "execute_result",
          "data": {
            "text/plain": [
              "<keras.callbacks.History at 0x7ff3b231ce90>"
            ]
          },
          "metadata": {},
          "execution_count": 10
        }
      ]
    },
    {
      "cell_type": "code",
      "source": [
        "test_loss, test_acc = model.evaluate(test_images, test_labels)\n",
        "print('Test accuracy:',test_acc)"
      ],
      "metadata": {
        "colab": {
          "base_uri": "https://localhost:8080/"
        },
        "id": "-Of2TcagGzDt",
        "outputId": "dd9ad77f-f330-4ecc-f4e6-b776b17c285b"
      },
      "execution_count": null,
      "outputs": [
        {
          "output_type": "stream",
          "name": "stdout",
          "text": [
            "313/313 [==============================] - 1s 3ms/step - loss: 0.0907 - accuracy: 0.9721\n",
            "Test accuracy: 0.972100019454956\n"
          ]
        }
      ]
    },
    {
      "cell_type": "code",
      "source": [
        "from keras.datasets import fashion_mnist\n",
        "(x_train, y_train), (x_test,y_test) = fashion_mnist.load_data()\n",
        "x_train.shape"
      ],
      "metadata": {
        "colab": {
          "base_uri": "https://localhost:8080/"
        },
        "id": "Md7_HBF6HeXN",
        "outputId": "38a20f22-578f-4724-87e4-bdc1eff24109"
      },
      "execution_count": null,
      "outputs": [
        {
          "output_type": "execute_result",
          "data": {
            "text/plain": [
              "(60000, 28, 28)"
            ]
          },
          "metadata": {},
          "execution_count": 23
        }
      ]
    },
    {
      "cell_type": "code",
      "source": [
        "from keras.datasets import fashion_mnist\n",
        "(x_train, y_train),(x_test,y_test)=fashion_mnist.load_data()\n",
        "x_test.shape"
      ],
      "metadata": {
        "colab": {
          "base_uri": "https://localhost:8080/"
        },
        "id": "Ml7LPPCrHiBO",
        "outputId": "f14dfb54-6d51-41af-a2ae-6830bd39e8d7"
      },
      "execution_count": null,
      "outputs": [
        {
          "output_type": "execute_result",
          "data": {
            "text/plain": [
              "(10000, 28, 28)"
            ]
          },
          "metadata": {},
          "execution_count": 22
        }
      ]
    },
    {
      "cell_type": "code",
      "source": [
        "from keras.datasets import fashion_mnist\n",
        "(x_train, y_train),(x_test,y_test)=fashion_mnist.load_data()\n",
        "y_test.shape"
      ],
      "metadata": {
        "colab": {
          "base_uri": "https://localhost:8080/"
        },
        "id": "KCplS3TVHkw8",
        "outputId": "e0574f84-93fd-4b99-bad9-f5b3241af772"
      },
      "execution_count": null,
      "outputs": [
        {
          "output_type": "execute_result",
          "data": {
            "text/plain": [
              "(10000,)"
            ]
          },
          "metadata": {},
          "execution_count": 21
        }
      ]
    },
    {
      "cell_type": "code",
      "source": [
        "class_names = ['T-shirt/Top','Trouser','Pullover','Press','Coat','Sandal','Shirt','Sneaker','Bag','Ankle boat']"
      ],
      "metadata": {
        "id": "y_XqS6X5JMFQ"
      },
      "execution_count": null,
      "outputs": []
    },
    {
      "cell_type": "code",
      "source": [
        "import matplotlib.pyplot as plt\n",
        "plt.imshow(x_train[20000])\n",
        "plt.show()\n",
        "print(class_names[y_train[20000]])"
      ],
      "metadata": {
        "colab": {
          "base_uri": "https://localhost:8080/",
          "height": 282
        },
        "id": "s1uTtTUALIMt",
        "outputId": "b9b1a7a8-fcec-4c7e-f3b8-95499bbf4424"
      },
      "execution_count": null,
      "outputs": [
        {
          "output_type": "display_data",
          "data": {
            "text/plain": [
              "<Figure size 432x288 with 1 Axes>"
            ],
            "image/png": "[encoded data removed]"
          },
          "metadata": {
            "needs_background": "light"
          }
        },
        {
          "output_type": "stream",
          "name": "stdout",
          "text": [
            "Sneaker\n"
          ]
        }
      ]
    },
    {
      "cell_type": "code",
      "source": [
        "from keras import models\n",
        "from keras import layers\n",
        "model = models.Sequential()\n",
        "model.add(layers.Dense(512,activation = 'relu',input_shape = (28*28,)))\n",
        "model.add(layers.Dense(10,activation = 'softmax'))\n",
        "x_train = x_train.reshape((60000,28*28))\n",
        "x_train = x_train.astype('float32')/255\n",
        "x_test = x_test.reshape((10000,28*28))\n",
        "x_test = x_test.astype('float32')/255\n",
        "from keras.utils import to_categorical\n",
        "y_train = to_categorical(y_train)\n",
        "y_test = to_categorical(y_test)\n",
        "\n",
        "\n"
      ],
      "metadata": {
        "id": "iBizEf5qKVDt"
      },
      "execution_count": null,
      "outputs": []
    },
    {
      "cell_type": "code",
      "source": [
        "from keras.metrics import metrics\n",
        "model.compile(optimizer ='rmsprop',loss='categorical_crossentropy',metrics=['accuracy'])\n",
        "model.fit(x_train,y_train,epochs=100, batch_size= 128)"
      ],
      "metadata": {
        "colab": {
          "base_uri": "https://localhost:8080/"
        },
        "id": "xiY3djPMUBc-",
        "outputId": "6fd9e4eb-1ba6-4f26-d7ae-932d7446040d"
      },
      "execution_count": null,
      "outputs": [
        {
          "output_type": "stream",
          "name": "stdout",
          "text": [
            "Epoch 1/100\n",
            "469/469 [==============================] - 5s 10ms/step - loss: 0.5552 - accuracy: 0.8021\n",
            "Epoch 2/100\n",
            "469/469 [==============================] - 5s 10ms/step - loss: 0.3786 - accuracy: 0.8610\n",
            "Epoch 3/100\n",
            "469/469 [==============================] - 6s 13ms/step - loss: 0.3364 - accuracy: 0.8767\n",
            "Epoch 4/100\n",
            "469/469 [==============================] - 5s 10ms/step - loss: 0.3116 - accuracy: 0.8852\n",
            "Epoch 5/100\n",
            "469/469 [==============================] - 5s 10ms/step - loss: 0.2919 - accuracy: 0.8919\n",
            "Epoch 6/100\n",
            "469/469 [==============================] - 5s 10ms/step - loss: 0.2769 - accuracy: 0.8983\n",
            "Epoch 7/100\n",
            "469/469 [==============================] - 5s 10ms/step - loss: 0.2651 - accuracy: 0.9018\n",
            "Epoch 8/100\n",
            "469/469 [==============================] - 5s 10ms/step - loss: 0.2540 - accuracy: 0.9064\n",
            "Epoch 9/100\n",
            "469/469 [==============================] - 5s 11ms/step - loss: 0.2423 - accuracy: 0.9107\n",
            "Epoch 10/100\n",
            "469/469 [==============================] - 5s 10ms/step - loss: 0.2346 - accuracy: 0.9125\n",
            "Epoch 11/100\n",
            "469/469 [==============================] - 5s 10ms/step - loss: 0.2241 - accuracy: 0.9179\n",
            "Epoch 12/100\n",
            "469/469 [==============================] - 5s 10ms/step - loss: 0.2176 - accuracy: 0.9197\n",
            "Epoch 13/100\n",
            "469/469 [==============================] - 5s 10ms/step - loss: 0.2110 - accuracy: 0.9232\n",
            "Epoch 14/100\n",
            "469/469 [==============================] - 5s 10ms/step - loss: 0.2018 - accuracy: 0.9248\n",
            "Epoch 15/100\n",
            "469/469 [==============================] - 5s 10ms/step - loss: 0.1969 - accuracy: 0.9272\n",
            "Epoch 16/100\n",
            "469/469 [==============================] - 5s 10ms/step - loss: 0.1908 - accuracy: 0.9304\n",
            "Epoch 17/100\n",
            "469/469 [==============================] - 5s 10ms/step - loss: 0.1858 - accuracy: 0.9310\n",
            "Epoch 18/100\n",
            "469/469 [==============================] - 5s 10ms/step - loss: 0.1795 - accuracy: 0.9330\n",
            "Epoch 19/100\n",
            "469/469 [==============================] - 5s 10ms/step - loss: 0.1760 - accuracy: 0.9349\n",
            "Epoch 20/100\n",
            "469/469 [==============================] - 5s 10ms/step - loss: 0.1725 - accuracy: 0.9366\n",
            "Epoch 21/100\n",
            "469/469 [==============================] - 5s 10ms/step - loss: 0.1683 - accuracy: 0.9389\n",
            "Epoch 22/100\n",
            "469/469 [==============================] - 5s 10ms/step - loss: 0.1633 - accuracy: 0.9397\n",
            "Epoch 23/100\n",
            "469/469 [==============================] - 5s 10ms/step - loss: 0.1587 - accuracy: 0.9419\n",
            "Epoch 24/100\n",
            "469/469 [==============================] - 5s 10ms/step - loss: 0.1565 - accuracy: 0.9431\n",
            "Epoch 25/100\n",
            "469/469 [==============================] - 5s 10ms/step - loss: 0.1511 - accuracy: 0.9439\n",
            "Epoch 26/100\n",
            "469/469 [==============================] - 5s 10ms/step - loss: 0.1465 - accuracy: 0.9465\n",
            "Epoch 27/100\n",
            "469/469 [==============================] - 5s 10ms/step - loss: 0.1455 - accuracy: 0.9468\n",
            "Epoch 28/100\n",
            "469/469 [==============================] - 5s 10ms/step - loss: 0.1412 - accuracy: 0.9487\n",
            "Epoch 29/100\n",
            "469/469 [==============================] - 5s 10ms/step - loss: 0.1352 - accuracy: 0.9512\n",
            "Epoch 30/100\n",
            "469/469 [==============================] - 5s 10ms/step - loss: 0.1330 - accuracy: 0.9505\n",
            "Epoch 31/100\n",
            "469/469 [==============================] - 8s 16ms/step - loss: 0.1327 - accuracy: 0.9520\n",
            "Epoch 32/100\n",
            "469/469 [==============================] - 5s 10ms/step - loss: 0.1275 - accuracy: 0.9542\n",
            "Epoch 33/100\n",
            "469/469 [==============================] - 5s 11ms/step - loss: 0.1286 - accuracy: 0.9547\n",
            "Epoch 34/100\n",
            "469/469 [==============================] - 5s 10ms/step - loss: 0.1245 - accuracy: 0.9555\n",
            "Epoch 35/100\n",
            "469/469 [==============================] - 5s 11ms/step - loss: 0.1228 - accuracy: 0.9562\n",
            "Epoch 36/100\n",
            "469/469 [==============================] - 5s 11ms/step - loss: 0.1177 - accuracy: 0.9581\n",
            "Epoch 37/100\n",
            "469/469 [==============================] - 7s 15ms/step - loss: 0.1157 - accuracy: 0.9582\n",
            "Epoch 38/100\n",
            "469/469 [==============================] - 6s 14ms/step - loss: 0.1152 - accuracy: 0.9592\n",
            "Epoch 39/100\n",
            "469/469 [==============================] - 5s 10ms/step - loss: 0.1107 - accuracy: 0.9598\n",
            "Epoch 40/100\n",
            "469/469 [==============================] - 5s 10ms/step - loss: 0.1118 - accuracy: 0.9606\n",
            "Epoch 41/100\n",
            "469/469 [==============================] - 5s 11ms/step - loss: 0.1096 - accuracy: 0.9616\n",
            "Epoch 42/100\n",
            "469/469 [==============================] - 5s 10ms/step - loss: 0.1087 - accuracy: 0.9622\n",
            "Epoch 43/100\n",
            "469/469 [==============================] - 5s 10ms/step - loss: 0.1075 - accuracy: 0.9621\n",
            "Epoch 44/100\n",
            "469/469 [==============================] - 5s 10ms/step - loss: 0.1030 - accuracy: 0.9630\n",
            "Epoch 45/100\n",
            "469/469 [==============================] - 5s 10ms/step - loss: 0.1018 - accuracy: 0.9636\n",
            "Epoch 46/100\n",
            "469/469 [==============================] - 5s 10ms/step - loss: 0.1024 - accuracy: 0.9646\n",
            "Epoch 47/100\n",
            "469/469 [==============================] - 5s 10ms/step - loss: 0.1006 - accuracy: 0.9645\n",
            "Epoch 48/100\n",
            "469/469 [==============================] - 5s 10ms/step - loss: 0.0959 - accuracy: 0.9658\n",
            "Epoch 49/100\n",
            "469/469 [==============================] - 5s 10ms/step - loss: 0.0956 - accuracy: 0.9666\n",
            "Epoch 50/100\n",
            "469/469 [==============================] - 5s 10ms/step - loss: 0.0987 - accuracy: 0.9657\n",
            "Epoch 51/100\n",
            "469/469 [==============================] - 5s 10ms/step - loss: 0.0919 - accuracy: 0.9679\n",
            "Epoch 52/100\n",
            "469/469 [==============================] - 5s 10ms/step - loss: 0.0917 - accuracy: 0.9689\n",
            "Epoch 53/100\n",
            "469/469 [==============================] - 5s 11ms/step - loss: 0.0934 - accuracy: 0.9681\n",
            "Epoch 54/100\n",
            "469/469 [==============================] - 5s 10ms/step - loss: 0.0882 - accuracy: 0.9694\n",
            "Epoch 55/100\n",
            "469/469 [==============================] - 5s 10ms/step - loss: 0.0887 - accuracy: 0.9705\n",
            "Epoch 56/100\n",
            "469/469 [==============================] - 5s 11ms/step - loss: 0.0856 - accuracy: 0.9705\n",
            "Epoch 57/100\n",
            "469/469 [==============================] - 5s 10ms/step - loss: 0.0847 - accuracy: 0.9704\n",
            "Epoch 58/100\n",
            "469/469 [==============================] - 5s 10ms/step - loss: 0.0836 - accuracy: 0.9719\n",
            "Epoch 59/100\n",
            "469/469 [==============================] - 5s 11ms/step - loss: 0.0804 - accuracy: 0.9725\n",
            "Epoch 60/100\n",
            "469/469 [==============================] - 5s 10ms/step - loss: 0.0829 - accuracy: 0.9718\n",
            "Epoch 61/100\n",
            "469/469 [==============================] - 5s 10ms/step - loss: 0.0800 - accuracy: 0.9724\n",
            "Epoch 62/100\n",
            "469/469 [==============================] - 5s 11ms/step - loss: 0.0809 - accuracy: 0.9732\n",
            "Epoch 63/100\n",
            "469/469 [==============================] - 5s 10ms/step - loss: 0.0770 - accuracy: 0.9736\n",
            "Epoch 64/100\n",
            "469/469 [==============================] - 5s 10ms/step - loss: 0.0778 - accuracy: 0.9736\n",
            "Epoch 65/100\n",
            "469/469 [==============================] - 5s 11ms/step - loss: 0.0750 - accuracy: 0.9741\n",
            "Epoch 66/100\n",
            "469/469 [==============================] - 5s 11ms/step - loss: 0.0748 - accuracy: 0.9744\n",
            "Epoch 67/100\n",
            "469/469 [==============================] - 5s 11ms/step - loss: 0.0743 - accuracy: 0.9747\n",
            "Epoch 68/100\n",
            "469/469 [==============================] - 5s 11ms/step - loss: 0.0704 - accuracy: 0.9764\n",
            "Epoch 69/100\n",
            "469/469 [==============================] - 5s 11ms/step - loss: 0.0740 - accuracy: 0.9755\n",
            "Epoch 70/100\n",
            "469/469 [==============================] - 5s 10ms/step - loss: 0.0708 - accuracy: 0.9763\n",
            "Epoch 71/100\n",
            "469/469 [==============================] - 5s 11ms/step - loss: 0.0715 - accuracy: 0.9763\n",
            "Epoch 72/100\n",
            "469/469 [==============================] - 5s 10ms/step - loss: 0.0701 - accuracy: 0.9771\n",
            "Epoch 73/100\n",
            "469/469 [==============================] - 5s 10ms/step - loss: 0.0712 - accuracy: 0.9771\n",
            "Epoch 74/100\n",
            "469/469 [==============================] - 5s 10ms/step - loss: 0.0693 - accuracy: 0.9772\n",
            "Epoch 75/100\n",
            "469/469 [==============================] - 5s 10ms/step - loss: 0.0666 - accuracy: 0.9786\n",
            "Epoch 76/100\n",
            "469/469 [==============================] - 5s 11ms/step - loss: 0.0688 - accuracy: 0.9778\n",
            "Epoch 77/100\n",
            "469/469 [==============================] - 5s 11ms/step - loss: 0.0645 - accuracy: 0.9791\n",
            "Epoch 78/100\n",
            "469/469 [==============================] - 5s 11ms/step - loss: 0.0697 - accuracy: 0.9782\n",
            "Epoch 79/100\n",
            "469/469 [==============================] - 5s 11ms/step - loss: 0.0638 - accuracy: 0.9796\n",
            "Epoch 80/100\n",
            "469/469 [==============================] - 5s 10ms/step - loss: 0.0641 - accuracy: 0.9792\n",
            "Epoch 81/100\n",
            "469/469 [==============================] - 5s 11ms/step - loss: 0.0659 - accuracy: 0.9788\n",
            "Epoch 82/100\n",
            "469/469 [==============================] - 5s 11ms/step - loss: 0.0635 - accuracy: 0.9802\n",
            "Epoch 83/100\n",
            "469/469 [==============================] - 5s 11ms/step - loss: 0.0638 - accuracy: 0.9793\n",
            "Epoch 84/100\n",
            "469/469 [==============================] - 5s 10ms/step - loss: 0.0610 - accuracy: 0.9804\n",
            "Epoch 85/100\n",
            "469/469 [==============================] - 5s 11ms/step - loss: 0.0631 - accuracy: 0.9804\n",
            "Epoch 86/100\n",
            "469/469 [==============================] - 5s 11ms/step - loss: 0.0609 - accuracy: 0.9808\n",
            "Epoch 87/100\n",
            "469/469 [==============================] - 5s 11ms/step - loss: 0.0600 - accuracy: 0.9807\n",
            "Epoch 88/100\n",
            "469/469 [==============================] - 5s 11ms/step - loss: 0.0593 - accuracy: 0.9813\n",
            "Epoch 89/100\n",
            "469/469 [==============================] - 5s 11ms/step - loss: 0.0587 - accuracy: 0.9811\n",
            "Epoch 90/100\n",
            "469/469 [==============================] - 5s 10ms/step - loss: 0.0585 - accuracy: 0.9814\n",
            "Epoch 91/100\n",
            "469/469 [==============================] - 5s 10ms/step - loss: 0.0599 - accuracy: 0.9815\n",
            "Epoch 92/100\n",
            "469/469 [==============================] - 5s 10ms/step - loss: 0.0582 - accuracy: 0.9818\n",
            "Epoch 93/100\n",
            "469/469 [==============================] - 5s 11ms/step - loss: 0.0589 - accuracy: 0.9815\n",
            "Epoch 94/100\n",
            "469/469 [==============================] - 5s 10ms/step - loss: 0.0580 - accuracy: 0.9822\n",
            "Epoch 95/100\n",
            "469/469 [==============================] - 5s 10ms/step - loss: 0.0569 - accuracy: 0.9823\n",
            "Epoch 96/100\n",
            "469/469 [==============================] - 5s 10ms/step - loss: 0.0552 - accuracy: 0.9834\n",
            "Epoch 97/100\n",
            "469/469 [==============================] - 5s 10ms/step - loss: 0.0554 - accuracy: 0.9825\n",
            "Epoch 98/100\n",
            "469/469 [==============================] - 5s 10ms/step - loss: 0.0539 - accuracy: 0.9832\n",
            "Epoch 99/100\n",
            "469/469 [==============================] - 5s 11ms/step - loss: 0.0533 - accuracy: 0.9834\n",
            "Epoch 100/100\n",
            "469/469 [==============================] - 5s 11ms/step - loss: 0.0528 - accuracy: 0.9833\n"
          ]
        },
        {
          "output_type": "execute_result",
          "data": {
            "text/plain": [
              "<keras.callbacks.History at 0x7ff3b1e846d0>"
            ]
          },
          "metadata": {},
          "execution_count": 26
        }
      ]
    },
    {
      "cell_type": "code",
      "source": [
        "from keras.utils import load_img\n",
        "img = load_img('/content/ao.jpg',target_size = (28,28))\n",
        "plt.imshow(img)"
      ],
      "metadata": {
        "colab": {
          "base_uri": "https://localhost:8080/",
          "height": 282
        },
        "id": "kU43aEwB-hQk",
        "outputId": "cefac010-b0d0-4c2b-a9fc-0502e6f7956d"
      },
      "execution_count": null,
      "outputs": [
        {
          "output_type": "execute_result",
          "data": {
            "text/plain": [
              "<matplotlib.image.AxesImage at 0x7ff3bcda2210>"
            ]
          },
          "metadata": {},
          "execution_count": 27
        },
        {
          "output_type": "display_data",
          "data": {
            "text/plain": [
              "<Figure size 432x288 with 1 Axes>"
            ],
            "image/png": "[encoded data removed]"
          },
          "metadata": {
            "needs_background": "light"
          }
        }
      ]
    }
  ]
}