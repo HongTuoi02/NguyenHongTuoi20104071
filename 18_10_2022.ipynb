{
  "nbformat": 4,
  "nbformat_minor": 0,
  "metadata": {
    "colab": {
      "provenance": [],
      "collapsed_sections": [],
      "include_colab_link": true
    },
    "kernelspec": {
      "name": "python3",
      "display_name": "Python 3"
    },
    "language_info": {
      "name": "python"
    }
  },
  "cells": [
    {
      "cell_type": "markdown",
      "metadata": {
        "id": "view-in-github",
        "colab_type": "text"
      },
      "source": [
        "<a href=\"https://colab.research.google.com/github/HongTuoi02/NguyenHongTuoi20104071/blob/main/18_10_2022.ipynb\" target=\"_parent\"><img src=\"https://colab.research.google.com/assets/colab-badge.svg\" alt=\"Open In Colab\"/></a>"
      ]
    },
    {
      "cell_type": "code",
      "source": [
        "from keras.datasets import mnist\n",
        "(train_images,train_labels),(test_images,test_labels)=mnist.load_data()\n",
        "train_images.shape\n",
        "train_labels.shape\n",
        "test_images.shape\n",
        "test_labels.shape\n",
        "\n",
        "\n"
      ],
      "metadata": {
        "colab": {
          "base_uri": "https://localhost:8080/"
        },
        "id": "vN0Hj6rH20kC",
        "outputId": "60df6f09-7ab0-499a-ad26-8446fb8ca80b"
      },
      "execution_count": null,
      "outputs": [
        {
          "output_type": "stream",
          "name": "stdout",
          "text": [
            "Downloading data from https://storage.googleapis.com/tensorflow/tf-keras-datasets/mnist.npz\n",
            "11490434/11490434 [==============================] - 0s 0us/step\n"
          ]
        },
        {
          "output_type": "execute_result",
          "data": {
            "text/plain": [
              "(10000,)"
            ]
          },
          "metadata": {},
          "execution_count": 2
        }
      ]
    },
    {
      "cell_type": "code",
      "source": [
        "from keras.layers.serialization import activation\n",
        "from keras import models\n",
        "from keras import layers\n",
        "model=models.Sequential()\n",
        "model.add(layers.Dense(512,activation='relu',input_shape=(28*28,)))\n",
        "model.add(layers.Dense(10,activation='softmax'))\n",
        "model.summary()\n"
      ],
      "metadata": {
        "colab": {
          "base_uri": "https://localhost:8080/"
        },
        "id": "w2b7k-Jk53ob",
        "outputId": "bfa7dcf1-e9e1-4590-faf3-ec0fd41e5d21"
      },
      "execution_count": null,
      "outputs": [
        {
          "output_type": "stream",
          "name": "stdout",
          "text": [
            "Model: \"sequential\"\n",
            "_________________________________________________________________\n",
            " Layer (type)                Output Shape              Param #   \n",
            "=================================================================\n",
            " dense (Dense)               (None, 512)               401920    \n",
            "                                                                 \n",
            " dense_1 (Dense)             (None, 10)                5130      \n",
            "                                                                 \n",
            "=================================================================\n",
            "Total params: 407,050\n",
            "Trainable params: 407,050\n",
            "Non-trainable params: 0\n",
            "_________________________________________________________________\n"
          ]
        }
      ]
    },
    {
      "cell_type": "code",
      "source": [
        "train_images=train_images.reshape((60000,28*28))\n",
        "train_images=train_images.astype('float32')/255\n",
        "test_images=test_images.reshape((10000,28*28))\n",
        "test_images=test_images.astype('float32')/255\n",
        "train_images.shape\n",
        "test_images.shape\n",
        "\n",
        "\n"
      ],
      "metadata": {
        "colab": {
          "base_uri": "https://localhost:8080/"
        },
        "id": "fzhNlr5d9dKg",
        "outputId": "b1f05b74-4f13-4857-e18d-da9a39b1b243"
      },
      "execution_count": null,
      "outputs": [
        {
          "output_type": "execute_result",
          "data": {
            "text/plain": [
              "(10000, 784)"
            ]
          },
          "metadata": {},
          "execution_count": 43
        }
      ]
    },
    {
      "cell_type": "code",
      "source": [
        "from keras.utils import to_categorical\n",
        "train_labels=to_categorical(train_labels)\n",
        "test_label=to_categorical(test_labels)\n",
        "train_labels.shape\n"
      ],
      "metadata": {
        "colab": {
          "base_uri": "https://localhost:8080/"
        },
        "id": "yntGBWEq_q1M",
        "outputId": "ec6d966a-ae29-4905-be05-710da9bfc79a"
      },
      "execution_count": null,
      "outputs": [
        {
          "output_type": "execute_result",
          "data": {
            "text/plain": [
              "(60000, 10)"
            ]
          },
          "metadata": {},
          "execution_count": 4
        }
      ]
    },
    {
      "cell_type": "code",
      "source": [
        "\n"
      ],
      "metadata": {
        "id": "11Vz1MkeA1dg"
      },
      "execution_count": null,
      "outputs": []
    },
    {
      "cell_type": "code",
      "source": [
        "import matplotlib.pyplot as plt\n",
        "plt.imshow(train_images[5])\n",
        "plt.show()\n",
        "print(train_label[5])"
      ],
      "metadata": {
        "colab": {
          "base_uri": "https://localhost:8080/",
          "height": 448
        },
        "id": "UonG6s1N4XEC",
        "outputId": "11c22471-cd43-4830-9bfd-e741173fc0b3"
      },
      "execution_count": null,
      "outputs": [
        {
          "output_type": "display_data",
          "data": {
            "text/plain": [
              "<Figure size 432x288 with 1 Axes>"
            ],
            "image/png": "[encoded data removed]"
          },
          "metadata": {
            "needs_background": "light"
          }
        },
        {
          "output_type": "error",
          "ename": "NameError",
          "evalue": "ignored",
          "traceback": [
            "\u001b[0;31m---------------------------------------------------------------------------\u001b[0m",
            "\u001b[0;31mNameError\u001b[0m                                 Traceback (most recent call last)",
            "\u001b[0;32m<ipython-input-6-502647dabeca>\u001b[0m in \u001b[0;36m<module>\u001b[0;34m\u001b[0m\n\u001b[1;32m      2\u001b[0m \u001b[0mplt\u001b[0m\u001b[0;34m.\u001b[0m\u001b[0mimshow\u001b[0m\u001b[0;34m(\u001b[0m\u001b[0mtrain_images\u001b[0m\u001b[0;34m[\u001b[0m\u001b[0;36m5\u001b[0m\u001b[0;34m]\u001b[0m\u001b[0;34m)\u001b[0m\u001b[0;34m\u001b[0m\u001b[0;34m\u001b[0m\u001b[0m\n\u001b[1;32m      3\u001b[0m \u001b[0mplt\u001b[0m\u001b[0;34m.\u001b[0m\u001b[0mshow\u001b[0m\u001b[0;34m(\u001b[0m\u001b[0;34m)\u001b[0m\u001b[0;34m\u001b[0m\u001b[0;34m\u001b[0m\u001b[0m\n\u001b[0;32m----> 4\u001b[0;31m \u001b[0mprint\u001b[0m\u001b[0;34m(\u001b[0m\u001b[0mtrain_label\u001b[0m\u001b[0;34m[\u001b[0m\u001b[0;36m5\u001b[0m\u001b[0;34m]\u001b[0m\u001b[0;34m)\u001b[0m\u001b[0;34m\u001b[0m\u001b[0;34m\u001b[0m\u001b[0m\n\u001b[0m",
            "\u001b[0;31mNameError\u001b[0m: name 'train_label' is not defined"
          ]
        }
      ]
    },
    {
      "cell_type": "code",
      "source": [
        "model.compile(optimizer='rmsprop',loss='categorical_crossentropy',metrics=['accuracy'])\n",
        "model.fit(train_images,train_labels,epochs=100,batch_size=128)"
      ],
      "metadata": {
        "colab": {
          "base_uri": "https://localhost:8080/"
        },
        "id": "cDAorqTIF0Ga",
        "outputId": "072f7c7b-b248-4d00-fce3-e744c323e927"
      },
      "execution_count": null,
      "outputs": [
        {
          "output_type": "stream",
          "name": "stdout",
          "text": [
            "Epoch 1/100\n",
            "469/469 [==============================] - 5s 10ms/step - loss: 4.5896e-09 - accuracy: 1.0000\n",
            "Epoch 2/100\n",
            "469/469 [==============================] - 5s 10ms/step - loss: 4.5657e-09 - accuracy: 1.0000\n",
            "Epoch 3/100\n",
            "469/469 [==============================] - 5s 10ms/step - loss: 4.5518e-09 - accuracy: 1.0000\n",
            "Epoch 4/100\n",
            "469/469 [==============================] - 5s 10ms/step - loss: 4.4942e-09 - accuracy: 1.0000\n",
            "Epoch 5/100\n",
            "469/469 [==============================] - 5s 10ms/step - loss: 4.4882e-09 - accuracy: 1.0000\n",
            "Epoch 6/100\n",
            "469/469 [==============================] - 5s 11ms/step - loss: 4.4942e-09 - accuracy: 1.0000\n",
            "Epoch 7/100\n",
            "469/469 [==============================] - 5s 10ms/step - loss: 4.4048e-09 - accuracy: 1.0000\n",
            "Epoch 8/100\n",
            "469/469 [==============================] - 5s 10ms/step - loss: 4.4127e-09 - accuracy: 1.0000\n",
            "Epoch 9/100\n",
            "469/469 [==============================] - 5s 10ms/step - loss: 4.4167e-09 - accuracy: 1.0000\n",
            "Epoch 10/100\n",
            "469/469 [==============================] - 5s 10ms/step - loss: 4.3988e-09 - accuracy: 1.0000\n",
            "Epoch 11/100\n",
            "469/469 [==============================] - 5s 10ms/step - loss: 4.3631e-09 - accuracy: 1.0000\n",
            "Epoch 12/100\n",
            "469/469 [==============================] - 5s 10ms/step - loss: 4.3372e-09 - accuracy: 1.0000\n",
            "Epoch 13/100\n",
            "469/469 [==============================] - 5s 10ms/step - loss: 4.3313e-09 - accuracy: 1.0000\n",
            "Epoch 14/100\n",
            "469/469 [==============================] - 5s 10ms/step - loss: 4.3193e-09 - accuracy: 1.0000\n",
            "Epoch 15/100\n",
            "469/469 [==============================] - 5s 10ms/step - loss: 4.2697e-09 - accuracy: 1.0000\n",
            "Epoch 16/100\n",
            "469/469 [==============================] - 6s 14ms/step - loss: 4.2717e-09 - accuracy: 1.0000\n",
            "Epoch 17/100\n",
            "469/469 [==============================] - 6s 13ms/step - loss: 4.2498e-09 - accuracy: 1.0000\n",
            "Epoch 18/100\n",
            "469/469 [==============================] - 7s 16ms/step - loss: 4.2419e-09 - accuracy: 1.0000\n",
            "Epoch 19/100\n",
            "469/469 [==============================] - 6s 13ms/step - loss: 4.1783e-09 - accuracy: 1.0000\n",
            "Epoch 20/100\n",
            "469/469 [==============================] - 6s 12ms/step - loss: 4.2280e-09 - accuracy: 1.0000\n",
            "Epoch 21/100\n",
            "469/469 [==============================] - 5s 11ms/step - loss: 4.1485e-09 - accuracy: 1.0000\n",
            "Epoch 22/100\n",
            "469/469 [==============================] - 5s 10ms/step - loss: 4.1604e-09 - accuracy: 1.0000\n",
            "Epoch 23/100\n",
            "469/469 [==============================] - 5s 10ms/step - loss: 4.1962e-09 - accuracy: 1.0000\n",
            "Epoch 24/100\n",
            "469/469 [==============================] - 5s 11ms/step - loss: 4.1366e-09 - accuracy: 1.0000\n",
            "Epoch 25/100\n",
            "469/469 [==============================] - 5s 10ms/step - loss: 4.1684e-09 - accuracy: 1.0000\n",
            "Epoch 26/100\n",
            "469/469 [==============================] - 5s 10ms/step - loss: 4.1544e-09 - accuracy: 1.0000\n",
            "Epoch 27/100\n",
            "469/469 [==============================] - 5s 10ms/step - loss: 4.1664e-09 - accuracy: 1.0000\n",
            "Epoch 28/100\n",
            "469/469 [==============================] - 5s 10ms/step - loss: 4.1385e-09 - accuracy: 1.0000\n",
            "Epoch 29/100\n",
            "469/469 [==============================] - 5s 10ms/step - loss: 4.1743e-09 - accuracy: 1.0000\n",
            "Epoch 30/100\n",
            "469/469 [==============================] - 5s 10ms/step - loss: 4.1564e-09 - accuracy: 1.0000\n",
            "Epoch 31/100\n",
            "469/469 [==============================] - 6s 12ms/step - loss: 4.1505e-09 - accuracy: 1.0000\n",
            "Epoch 32/100\n",
            "469/469 [==============================] - 6s 13ms/step - loss: 4.0849e-09 - accuracy: 1.0000\n",
            "Epoch 33/100\n",
            "469/469 [==============================] - 8s 16ms/step - loss: 4.1107e-09 - accuracy: 1.0000\n",
            "Epoch 34/100\n",
            "469/469 [==============================] - 5s 10ms/step - loss: 4.1266e-09 - accuracy: 1.0000\n",
            "Epoch 35/100\n",
            "469/469 [==============================] - 5s 10ms/step - loss: 4.0710e-09 - accuracy: 1.0000\n",
            "Epoch 36/100\n",
            "469/469 [==============================] - 5s 10ms/step - loss: 4.1465e-09 - accuracy: 1.0000\n",
            "Epoch 37/100\n",
            "469/469 [==============================] - 6s 13ms/step - loss: 4.1028e-09 - accuracy: 1.0000\n",
            "Epoch 38/100\n",
            "469/469 [==============================] - 6s 13ms/step - loss: 4.1207e-09 - accuracy: 1.0000\n",
            "Epoch 39/100\n",
            "469/469 [==============================] - 5s 11ms/step - loss: 4.0889e-09 - accuracy: 1.0000\n",
            "Epoch 40/100\n",
            "469/469 [==============================] - 5s 12ms/step - loss: 4.1286e-09 - accuracy: 1.0000\n",
            "Epoch 41/100\n",
            "469/469 [==============================] - 5s 10ms/step - loss: 4.1366e-09 - accuracy: 1.0000\n",
            "Epoch 42/100\n",
            "469/469 [==============================] - 5s 10ms/step - loss: 4.0531e-09 - accuracy: 1.0000\n",
            "Epoch 43/100\n",
            "469/469 [==============================] - 5s 10ms/step - loss: 4.0869e-09 - accuracy: 1.0000\n",
            "Epoch 44/100\n",
            "469/469 [==============================] - 7s 14ms/step - loss: 4.0253e-09 - accuracy: 1.0000\n",
            "Epoch 45/100\n",
            "469/469 [==============================] - 6s 13ms/step - loss: 4.0392e-09 - accuracy: 1.0000\n",
            "Epoch 46/100\n",
            "469/469 [==============================] - 6s 12ms/step - loss: 4.0491e-09 - accuracy: 1.0000\n",
            "Epoch 47/100\n",
            "469/469 [==============================] - 5s 10ms/step - loss: 4.0591e-09 - accuracy: 1.0000\n",
            "Epoch 48/100\n",
            "469/469 [==============================] - 5s 10ms/step - loss: 4.0392e-09 - accuracy: 1.0000\n",
            "Epoch 49/100\n",
            "469/469 [==============================] - 5s 10ms/step - loss: 4.0491e-09 - accuracy: 1.0000\n",
            "Epoch 50/100\n",
            "469/469 [==============================] - 5s 10ms/step - loss: 3.9756e-09 - accuracy: 1.0000\n",
            "Epoch 51/100\n",
            "469/469 [==============================] - 5s 10ms/step - loss: 4.0670e-09 - accuracy: 1.0000\n",
            "Epoch 52/100\n",
            "469/469 [==============================] - 5s 10ms/step - loss: 4.0074e-09 - accuracy: 1.0000\n",
            "Epoch 53/100\n",
            "469/469 [==============================] - 5s 10ms/step - loss: 4.0352e-09 - accuracy: 1.0000\n",
            "Epoch 54/100\n",
            "469/469 [==============================] - 5s 10ms/step - loss: 3.9915e-09 - accuracy: 1.0000\n",
            "Epoch 55/100\n",
            "469/469 [==============================] - 5s 10ms/step - loss: 4.0352e-09 - accuracy: 1.0000\n",
            "Epoch 56/100\n",
            "469/469 [==============================] - 5s 11ms/step - loss: 3.9935e-09 - accuracy: 1.0000\n",
            "Epoch 57/100\n",
            "469/469 [==============================] - 5s 10ms/step - loss: 4.0511e-09 - accuracy: 1.0000\n",
            "Epoch 58/100\n",
            "469/469 [==============================] - 5s 10ms/step - loss: 3.9816e-09 - accuracy: 1.0000\n",
            "Epoch 59/100\n",
            "469/469 [==============================] - 5s 10ms/step - loss: 4.0332e-09 - accuracy: 1.0000\n",
            "Epoch 60/100\n",
            "469/469 [==============================] - 5s 10ms/step - loss: 3.9876e-09 - accuracy: 1.0000\n",
            "Epoch 61/100\n",
            "469/469 [==============================] - 5s 10ms/step - loss: 4.0015e-09 - accuracy: 1.0000\n",
            "Epoch 62/100\n",
            "469/469 [==============================] - 5s 10ms/step - loss: 3.9915e-09 - accuracy: 1.0000\n",
            "Epoch 63/100\n",
            "469/469 [==============================] - 5s 10ms/step - loss: 3.9955e-09 - accuracy: 1.0000\n",
            "Epoch 64/100\n",
            "469/469 [==============================] - 5s 10ms/step - loss: 4.0273e-09 - accuracy: 1.0000\n",
            "Epoch 65/100\n",
            "469/469 [==============================] - 5s 10ms/step - loss: 4.0134e-09 - accuracy: 1.0000\n",
            "Epoch 66/100\n",
            "469/469 [==============================] - 5s 10ms/step - loss: 3.9736e-09 - accuracy: 1.0000\n",
            "Epoch 67/100\n",
            "469/469 [==============================] - 5s 10ms/step - loss: 4.0273e-09 - accuracy: 1.0000\n",
            "Epoch 68/100\n",
            "469/469 [==============================] - 5s 10ms/step - loss: 4.0174e-09 - accuracy: 1.0000\n",
            "Epoch 69/100\n",
            "469/469 [==============================] - 5s 10ms/step - loss: 3.9856e-09 - accuracy: 1.0000\n",
            "Epoch 70/100\n",
            "469/469 [==============================] - 5s 11ms/step - loss: 4.0054e-09 - accuracy: 1.0000\n",
            "Epoch 71/100\n",
            "469/469 [==============================] - 5s 10ms/step - loss: 4.0551e-09 - accuracy: 1.0000\n",
            "Epoch 72/100\n",
            "469/469 [==============================] - 5s 10ms/step - loss: 4.0154e-09 - accuracy: 1.0000\n",
            "Epoch 73/100\n",
            "469/469 [==============================] - 5s 10ms/step - loss: 4.0154e-09 - accuracy: 1.0000\n",
            "Epoch 74/100\n",
            "469/469 [==============================] - 5s 10ms/step - loss: 3.9856e-09 - accuracy: 1.0000\n",
            "Epoch 75/100\n",
            "469/469 [==============================] - 7s 14ms/step - loss: 4.0253e-09 - accuracy: 1.0000\n",
            "Epoch 76/100\n",
            "469/469 [==============================] - 5s 10ms/step - loss: 4.0412e-09 - accuracy: 1.0000\n",
            "Epoch 77/100\n",
            "469/469 [==============================] - 5s 11ms/step - loss: 4.0352e-09 - accuracy: 1.0000\n",
            "Epoch 78/100\n",
            "469/469 [==============================] - 5s 10ms/step - loss: 4.0154e-09 - accuracy: 1.0000\n",
            "Epoch 79/100\n",
            "469/469 [==============================] - 5s 10ms/step - loss: 4.0650e-09 - accuracy: 1.0000\n",
            "Epoch 80/100\n",
            "469/469 [==============================] - 5s 10ms/step - loss: 4.0591e-09 - accuracy: 1.0000\n",
            "Epoch 81/100\n",
            "469/469 [==============================] - 5s 10ms/step - loss: 3.9955e-09 - accuracy: 1.0000\n",
            "Epoch 82/100\n",
            "469/469 [==============================] - 6s 13ms/step - loss: 4.0273e-09 - accuracy: 1.0000\n",
            "Epoch 83/100\n",
            "469/469 [==============================] - 5s 10ms/step - loss: 4.0213e-09 - accuracy: 1.0000\n",
            "Epoch 84/100\n",
            "469/469 [==============================] - 5s 10ms/step - loss: 4.0770e-09 - accuracy: 1.0000\n",
            "Epoch 85/100\n",
            "469/469 [==============================] - 5s 10ms/step - loss: 4.0372e-09 - accuracy: 1.0000\n",
            "Epoch 86/100\n",
            "469/469 [==============================] - 5s 10ms/step - loss: 4.0611e-09 - accuracy: 1.0000\n",
            "Epoch 87/100\n",
            "469/469 [==============================] - 5s 10ms/step - loss: 4.0491e-09 - accuracy: 1.0000\n",
            "Epoch 88/100\n",
            "469/469 [==============================] - 5s 10ms/step - loss: 4.0770e-09 - accuracy: 1.0000\n",
            "Epoch 89/100\n",
            "469/469 [==============================] - 5s 10ms/step - loss: 4.0253e-09 - accuracy: 1.0000\n",
            "Epoch 90/100\n",
            "469/469 [==============================] - 5s 11ms/step - loss: 4.1028e-09 - accuracy: 1.0000\n",
            "Epoch 91/100\n",
            "469/469 [==============================] - 7s 15ms/step - loss: 4.0690e-09 - accuracy: 1.0000\n",
            "Epoch 92/100\n",
            "469/469 [==============================] - 6s 12ms/step - loss: 4.0531e-09 - accuracy: 1.0000\n",
            "Epoch 93/100\n",
            "469/469 [==============================] - 6s 13ms/step - loss: 4.0988e-09 - accuracy: 1.0000\n",
            "Epoch 94/100\n",
            "469/469 [==============================] - 6s 12ms/step - loss: 4.0849e-09 - accuracy: 1.0000\n",
            "Epoch 95/100\n",
            "469/469 [==============================] - 5s 11ms/step - loss: 4.0710e-09 - accuracy: 1.0000\n",
            "Epoch 96/100\n",
            "469/469 [==============================] - 7s 14ms/step - loss: 4.0432e-09 - accuracy: 1.0000\n",
            "Epoch 97/100\n",
            "469/469 [==============================] - 6s 13ms/step - loss: 4.0750e-09 - accuracy: 1.0000\n",
            "Epoch 98/100\n",
            "469/469 [==============================] - 5s 10ms/step - loss: 4.0372e-09 - accuracy: 1.0000\n",
            "Epoch 99/100\n",
            "469/469 [==============================] - 5s 11ms/step - loss: 4.0332e-09 - accuracy: 1.0000\n",
            "Epoch 100/100\n",
            "469/469 [==============================] - 5s 10ms/step - loss: 4.0849e-09 - accuracy: 1.0000\n"
          ]
        },
        {
          "output_type": "execute_result",
          "data": {
            "text/plain": [
              "<keras.callbacks.History at 0x7fc9cad25350>"
            ]
          },
          "metadata": {},
          "execution_count": 58
        }
      ]
    },
    {
      "cell_type": "code",
      "source": [
        "test_loss,test_acc=model.evaluate(test_images,test_labels)\n",
        "print('Test accuracy:',test_acc)\n",
        "\n"
      ],
      "metadata": {
        "id": "ZKxx2lWvF-QY"
      },
      "execution_count": null,
      "outputs": []
    },
    {
      "cell_type": "code",
      "source": [
        "from keras.datasets import fashion_mnist\n",
        "(x_train,y_train),(x_test,y_test)=fashion_mnist.load_data()\n",
        "x_train.shape"
      ],
      "metadata": {
        "colab": {
          "base_uri": "https://localhost:8080/"
        },
        "id": "VriAbCBHH0Wv",
        "outputId": "3d4a5996-bcdf-42a9-92e8-84204cbfdc53"
      },
      "execution_count": null,
      "outputs": [
        {
          "output_type": "stream",
          "name": "stdout",
          "text": [
            "Downloading data from https://storage.googleapis.com/tensorflow/tf-keras-datasets/train-labels-idx1-ubyte.gz\n",
            "29515/29515 [==============================] - 0s 0us/step\n",
            "Downloading data from https://storage.googleapis.com/tensorflow/tf-keras-datasets/train-images-idx3-ubyte.gz\n",
            "26421880/26421880 [==============================] - 0s 0us/step\n",
            "Downloading data from https://storage.googleapis.com/tensorflow/tf-keras-datasets/t10k-labels-idx1-ubyte.gz\n",
            "5148/5148 [==============================] - 0s 0us/step\n",
            "Downloading data from https://storage.googleapis.com/tensorflow/tf-keras-datasets/t10k-images-idx3-ubyte.gz\n",
            "4422102/4422102 [==============================] - 0s 0us/step\n"
          ]
        },
        {
          "output_type": "execute_result",
          "data": {
            "text/plain": [
              "(60000, 28, 28)"
            ]
          },
          "metadata": {},
          "execution_count": 49
        }
      ]
    },
    {
      "cell_type": "code",
      "source": [
        "from keras.datasets import fashion_mnist\n",
        "(x_train,y_train),(x_test,y_test)=fashion_mnist.load_data()\n",
        "y_train.shape"
      ],
      "metadata": {
        "colab": {
          "base_uri": "https://localhost:8080/"
        },
        "id": "l3v_L33oH_sM",
        "outputId": "cee642f6-77f7-4a4a-84ce-bb6033e8d356"
      },
      "execution_count": null,
      "outputs": [
        {
          "output_type": "execute_result",
          "data": {
            "text/plain": [
              "(60000,)"
            ]
          },
          "metadata": {},
          "execution_count": 50
        }
      ]
    },
    {
      "cell_type": "code",
      "source": [
        "from keras.datasets import fashion_mnist\n",
        "(x_train,y_train),(x_test,y_test)=fashion_mnist.load_data()\n",
        "x_test.shape"
      ],
      "metadata": {
        "colab": {
          "base_uri": "https://localhost:8080/"
        },
        "id": "2yMxIuJkICvJ",
        "outputId": "2bc5d458-cce1-4b73-c59f-bea14f6f44ff"
      },
      "execution_count": null,
      "outputs": [
        {
          "output_type": "execute_result",
          "data": {
            "text/plain": [
              "(10000, 28, 28)"
            ]
          },
          "metadata": {},
          "execution_count": 51
        }
      ]
    },
    {
      "cell_type": "code",
      "source": [
        "from keras.datasets import fashion_mnist\n",
        "(x_train,y_train),(x_test,y_test)=fashion_mnist.load_data()\n",
        "y_test.shape"
      ],
      "metadata": {
        "colab": {
          "base_uri": "https://localhost:8080/"
        },
        "id": "3JYUZLtLIFz0",
        "outputId": "1ca0028d-a85d-44c8-b0fd-3a2568d2580d"
      },
      "execution_count": null,
      "outputs": [
        {
          "output_type": "execute_result",
          "data": {
            "text/plain": [
              "(10000,)"
            ]
          },
          "metadata": {},
          "execution_count": 52
        }
      ]
    },
    {
      "cell_type": "code",
      "source": [
        "import matplotlib.pyplot as plt\n",
        "plt.imshow(x_train[100])\n",
        "plt.show()\n",
        "print(test_label[100])"
      ],
      "metadata": {
        "colab": {
          "base_uri": "https://localhost:8080/",
          "height": 282
        },
        "id": "4MpkIPzUJxcj",
        "outputId": "57193b69-8324-4246-fbcb-7d047eee3343"
      },
      "execution_count": null,
      "outputs": [
        {
          "output_type": "display_data",
          "data": {
            "text/plain": [
              "<Figure size 432x288 with 1 Axes>"
            ],
            "image/png": "[encoded data removed]"
          },
          "metadata": {
            "needs_background": "light"
          }
        },
        {
          "output_type": "stream",
          "name": "stdout",
          "text": [
            "[0. 0. 0. 0. 0. 0. 1. 0. 0. 0.]\n"
          ]
        }
      ]
    },
    {
      "cell_type": "code",
      "source": [
        "class_name=['T-shirt/Top','Trous','Pullover','Dress','Coat','Sandal','Shirt','Sneaker','Bag','Ankle boot']\n",
        "plt.imshow(x_train[550])\n",
        "plt.show()\n",
        "print(class_name[y_train[550]])"
      ],
      "metadata": {
        "colab": {
          "base_uri": "https://localhost:8080/",
          "height": 282
        },
        "id": "wBPgLg8AKexC",
        "outputId": "7d1bf016-af99-454c-87b3-73a82b6270b9"
      },
      "execution_count": null,
      "outputs": [
        {
          "output_type": "display_data",
          "data": {
            "text/plain": [
              "<Figure size 432x288 with 1 Axes>"
            ],
            "image/png": "[encoded data removed]"
          },
          "metadata": {
            "needs_background": "light"
          }
        },
        {
          "output_type": "stream",
          "name": "stdout",
          "text": [
            "Dress\n"
          ]
        }
      ]
    },
    {
      "cell_type": "code",
      "source": [
        "model.compile(optimizer='rmsprop',loss='categorical_crossentropy',metrics=['accuracy'])\n",
        "model.fit(train_images,train_labels,epochs=100,batch_size=128)"
      ],
      "metadata": {
        "colab": {
          "base_uri": "https://localhost:8080/"
        },
        "id": "wZVxMw8tSff1",
        "outputId": "54d33756-a7b7-41c4-aa06-038317aad1b4"
      },
      "execution_count": null,
      "outputs": [
        {
          "output_type": "stream",
          "name": "stdout",
          "text": [
            "Epoch 1/100\n",
            "469/469 [==============================] - 6s 12ms/step - loss: 4.1385e-09 - accuracy: 1.0000\n",
            "Epoch 2/100\n",
            "469/469 [==============================] - 5s 10ms/step - loss: 4.0789e-09 - accuracy: 1.0000\n",
            "Epoch 3/100\n",
            "469/469 [==============================] - 5s 11ms/step - loss: 4.0352e-09 - accuracy: 1.0000\n",
            "Epoch 4/100\n",
            "469/469 [==============================] - 5s 11ms/step - loss: 4.1008e-09 - accuracy: 1.0000\n",
            "Epoch 5/100\n",
            "469/469 [==============================] - 5s 10ms/step - loss: 4.0690e-09 - accuracy: 1.0000\n",
            "Epoch 6/100\n",
            "469/469 [==============================] - 5s 10ms/step - loss: 4.1127e-09 - accuracy: 1.0000\n",
            "Epoch 7/100\n",
            "469/469 [==============================] - 5s 10ms/step - loss: 4.0670e-09 - accuracy: 1.0000\n",
            "Epoch 8/100\n",
            "469/469 [==============================] - 5s 10ms/step - loss: 4.1127e-09 - accuracy: 1.0000\n",
            "Epoch 9/100\n",
            "469/469 [==============================] - 6s 12ms/step - loss: 4.0988e-09 - accuracy: 1.0000\n",
            "Epoch 10/100\n",
            "469/469 [==============================] - 5s 10ms/step - loss: 4.0710e-09 - accuracy: 1.0000\n",
            "Epoch 11/100\n",
            "469/469 [==============================] - 5s 10ms/step - loss: 4.0770e-09 - accuracy: 1.0000\n",
            "Epoch 12/100\n",
            "469/469 [==============================] - 5s 10ms/step - loss: 4.1048e-09 - accuracy: 1.0000\n",
            "Epoch 13/100\n",
            "469/469 [==============================] - 5s 11ms/step - loss: 4.1962e-09 - accuracy: 1.0000\n",
            "Epoch 14/100\n",
            "469/469 [==============================] - 5s 10ms/step - loss: 4.1326e-09 - accuracy: 1.0000\n",
            "Epoch 15/100\n",
            "469/469 [==============================] - 5s 10ms/step - loss: 4.1346e-09 - accuracy: 1.0000\n",
            "Epoch 16/100\n",
            "469/469 [==============================] - 5s 11ms/step - loss: 4.1862e-09 - accuracy: 1.0000\n",
            "Epoch 17/100\n",
            "469/469 [==============================] - 5s 10ms/step - loss: 4.1465e-09 - accuracy: 1.0000\n",
            "Epoch 18/100\n",
            "469/469 [==============================] - 5s 10ms/step - loss: 4.1664e-09 - accuracy: 1.0000\n",
            "Epoch 19/100\n",
            "469/469 [==============================] - 5s 10ms/step - loss: 4.1525e-09 - accuracy: 1.0000\n",
            "Epoch 20/100\n",
            "469/469 [==============================] - 5s 10ms/step - loss: 4.1505e-09 - accuracy: 1.0000\n",
            "Epoch 21/100\n",
            "469/469 [==============================] - 5s 10ms/step - loss: 4.1525e-09 - accuracy: 1.0000\n",
            "Epoch 22/100\n",
            "469/469 [==============================] - 5s 10ms/step - loss: 4.1405e-09 - accuracy: 1.0000\n",
            "Epoch 23/100\n",
            "469/469 [==============================] - 5s 10ms/step - loss: 4.1604e-09 - accuracy: 1.0000\n",
            "Epoch 24/100\n",
            "469/469 [==============================] - 5s 11ms/step - loss: 4.1604e-09 - accuracy: 1.0000\n",
            "Epoch 25/100\n",
            "469/469 [==============================] - 6s 12ms/step - loss: 4.2260e-09 - accuracy: 1.0000\n",
            "Epoch 26/100\n",
            "469/469 [==============================] - 6s 13ms/step - loss: 4.1922e-09 - accuracy: 1.0000\n",
            "Epoch 27/100\n",
            "469/469 [==============================] - 5s 11ms/step - loss: 4.1902e-09 - accuracy: 1.0000\n",
            "Epoch 28/100\n",
            "469/469 [==============================] - 5s 10ms/step - loss: 4.2180e-09 - accuracy: 1.0000\n",
            "Epoch 29/100\n",
            "469/469 [==============================] - 5s 10ms/step - loss: 4.2220e-09 - accuracy: 1.0000\n",
            "Epoch 30/100\n",
            "469/469 [==============================] - 5s 11ms/step - loss: 4.2657e-09 - accuracy: 1.0000\n",
            "Epoch 31/100\n",
            "469/469 [==============================] - 6s 13ms/step - loss: 4.2121e-09 - accuracy: 1.0000\n",
            "Epoch 32/100\n",
            "469/469 [==============================] - 5s 10ms/step - loss: 4.2061e-09 - accuracy: 1.0000\n",
            "Epoch 33/100\n",
            "469/469 [==============================] - 7s 14ms/step - loss: 4.2637e-09 - accuracy: 1.0000\n",
            "Epoch 34/100\n",
            "469/469 [==============================] - 5s 10ms/step - loss: 4.2657e-09 - accuracy: 1.0000\n",
            "Epoch 35/100\n",
            "469/469 [==============================] - 5s 11ms/step - loss: 4.2538e-09 - accuracy: 1.0000\n",
            "Epoch 36/100\n",
            "469/469 [==============================] - 5s 10ms/step - loss: 4.2597e-09 - accuracy: 1.0000\n",
            "Epoch 37/100\n",
            "469/469 [==============================] - 7s 15ms/step - loss: 4.2995e-09 - accuracy: 1.0000\n",
            "Epoch 38/100\n",
            "469/469 [==============================] - 5s 10ms/step - loss: 4.2876e-09 - accuracy: 1.0000\n",
            "Epoch 39/100\n",
            "469/469 [==============================] - 5s 11ms/step - loss: 4.2697e-09 - accuracy: 1.0000\n",
            "Epoch 40/100\n",
            "469/469 [==============================] - 5s 10ms/step - loss: 4.2399e-09 - accuracy: 1.0000\n",
            "Epoch 41/100\n",
            "469/469 [==============================] - 5s 12ms/step - loss: 4.2399e-09 - accuracy: 1.0000\n",
            "Epoch 42/100\n",
            "469/469 [==============================] - 5s 11ms/step - loss: 4.2776e-09 - accuracy: 1.0000\n",
            "Epoch 43/100\n",
            "469/469 [==============================] - 5s 10ms/step - loss: 4.2578e-09 - accuracy: 1.0000\n",
            "Epoch 44/100\n",
            "469/469 [==============================] - 5s 10ms/step - loss: 4.3412e-09 - accuracy: 1.0000\n",
            "Epoch 45/100\n",
            "469/469 [==============================] - 5s 10ms/step - loss: 4.2796e-09 - accuracy: 1.0000\n",
            "Epoch 46/100\n",
            "469/469 [==============================] - 5s 10ms/step - loss: 4.3293e-09 - accuracy: 1.0000\n",
            "Epoch 47/100\n",
            "469/469 [==============================] - 5s 11ms/step - loss: 4.2995e-09 - accuracy: 1.0000\n",
            "Epoch 48/100\n",
            "469/469 [==============================] - 5s 11ms/step - loss: 4.3253e-09 - accuracy: 1.0000\n",
            "Epoch 49/100\n",
            "469/469 [==============================] - 5s 10ms/step - loss: 4.3253e-09 - accuracy: 1.0000\n",
            "Epoch 50/100\n",
            "469/469 [==============================] - 5s 10ms/step - loss: 4.3154e-09 - accuracy: 1.0000\n",
            "Epoch 51/100\n",
            "469/469 [==============================] - 5s 11ms/step - loss: 4.3571e-09 - accuracy: 1.0000\n",
            "Epoch 52/100\n",
            "469/469 [==============================] - 6s 12ms/step - loss: 4.3869e-09 - accuracy: 1.0000\n",
            "Epoch 53/100\n",
            "469/469 [==============================] - 5s 11ms/step - loss: 4.3492e-09 - accuracy: 1.0000\n",
            "Epoch 54/100\n",
            "469/469 [==============================] - 5s 10ms/step - loss: 4.3790e-09 - accuracy: 1.0000\n",
            "Epoch 55/100\n",
            "469/469 [==============================] - 5s 10ms/step - loss: 4.4187e-09 - accuracy: 1.0000\n",
            "Epoch 56/100\n",
            "469/469 [==============================] - 5s 10ms/step - loss: 4.4107e-09 - accuracy: 1.0000\n",
            "Epoch 57/100\n",
            "469/469 [==============================] - 5s 10ms/step - loss: 4.4445e-09 - accuracy: 1.0000\n",
            "Epoch 58/100\n",
            "469/469 [==============================] - 5s 10ms/step - loss: 4.3968e-09 - accuracy: 1.0000\n",
            "Epoch 59/100\n",
            "469/469 [==============================] - 5s 10ms/step - loss: 4.3948e-09 - accuracy: 1.0000\n",
            "Epoch 60/100\n",
            "469/469 [==============================] - 5s 10ms/step - loss: 4.3670e-09 - accuracy: 1.0000\n",
            "Epoch 61/100\n",
            "469/469 [==============================] - 5s 10ms/step - loss: 4.4743e-09 - accuracy: 1.0000\n",
            "Epoch 62/100\n",
            "469/469 [==============================] - 5s 10ms/step - loss: 4.4028e-09 - accuracy: 1.0000\n",
            "Epoch 63/100\n",
            "469/469 [==============================] - 5s 11ms/step - loss: 4.4684e-09 - accuracy: 1.0000\n",
            "Epoch 64/100\n",
            "469/469 [==============================] - 5s 11ms/step - loss: 4.4405e-09 - accuracy: 1.0000\n",
            "Epoch 65/100\n",
            "469/469 [==============================] - 5s 10ms/step - loss: 4.4862e-09 - accuracy: 1.0000\n",
            "Epoch 66/100\n",
            "469/469 [==============================] - 5s 10ms/step - loss: 4.5061e-09 - accuracy: 1.0000\n",
            "Epoch 67/100\n",
            "469/469 [==============================] - 5s 10ms/step - loss: 4.4664e-09 - accuracy: 1.0000\n",
            "Epoch 68/100\n",
            "469/469 [==============================] - 5s 10ms/step - loss: 4.4247e-09 - accuracy: 1.0000\n",
            "Epoch 69/100\n",
            "469/469 [==============================] - 5s 10ms/step - loss: 4.4743e-09 - accuracy: 1.0000\n",
            "Epoch 70/100\n",
            "469/469 [==============================] - 5s 10ms/step - loss: 4.4525e-09 - accuracy: 1.0000\n",
            "Epoch 71/100\n",
            "469/469 [==============================] - 5s 10ms/step - loss: 4.4584e-09 - accuracy: 1.0000\n",
            "Epoch 72/100\n",
            "469/469 [==============================] - 5s 10ms/step - loss: 4.4207e-09 - accuracy: 1.0000\n",
            "Epoch 73/100\n",
            "469/469 [==============================] - 5s 10ms/step - loss: 4.4286e-09 - accuracy: 1.0000\n",
            "Epoch 74/100\n",
            "469/469 [==============================] - 5s 11ms/step - loss: 4.4664e-09 - accuracy: 1.0000\n",
            "Epoch 75/100\n",
            "469/469 [==============================] - 5s 11ms/step - loss: 4.4445e-09 - accuracy: 1.0000\n",
            "Epoch 76/100\n",
            "469/469 [==============================] - 5s 11ms/step - loss: 4.4425e-09 - accuracy: 1.0000\n",
            "Epoch 77/100\n",
            "469/469 [==============================] - 5s 10ms/step - loss: 4.5280e-09 - accuracy: 1.0000\n",
            "Epoch 78/100\n",
            "469/469 [==============================] - 5s 10ms/step - loss: 4.4505e-09 - accuracy: 1.0000\n",
            "Epoch 79/100\n",
            "469/469 [==============================] - 5s 10ms/step - loss: 4.5796e-09 - accuracy: 1.0000\n",
            "Epoch 80/100\n",
            "469/469 [==============================] - 5s 10ms/step - loss: 4.5280e-09 - accuracy: 1.0000\n",
            "Epoch 81/100\n",
            "469/469 [==============================] - 5s 10ms/step - loss: 4.4763e-09 - accuracy: 1.0000\n",
            "Epoch 82/100\n",
            "469/469 [==============================] - 5s 10ms/step - loss: 4.4425e-09 - accuracy: 1.0000\n",
            "Epoch 83/100\n",
            "469/469 [==============================] - 5s 10ms/step - loss: 4.4743e-09 - accuracy: 1.0000\n",
            "Epoch 84/100\n",
            "469/469 [==============================] - 5s 10ms/step - loss: 4.4227e-09 - accuracy: 1.0000\n",
            "Epoch 85/100\n",
            "469/469 [==============================] - 5s 10ms/step - loss: 4.4783e-09 - accuracy: 1.0000\n",
            "Epoch 86/100\n",
            "469/469 [==============================] - 5s 10ms/step - loss: 4.5518e-09 - accuracy: 1.0000\n",
            "Epoch 87/100\n",
            "469/469 [==============================] - 6s 12ms/step - loss: 4.5220e-09 - accuracy: 1.0000\n",
            "Epoch 88/100\n",
            "469/469 [==============================] - 5s 11ms/step - loss: 4.5121e-09 - accuracy: 1.0000\n",
            "Epoch 89/100\n",
            "469/469 [==============================] - 6s 14ms/step - loss: 4.4624e-09 - accuracy: 1.0000\n",
            "Epoch 90/100\n",
            "469/469 [==============================] - 5s 10ms/step - loss: 4.4862e-09 - accuracy: 1.0000\n",
            "Epoch 91/100\n",
            "469/469 [==============================] - 5s 10ms/step - loss: 4.5121e-09 - accuracy: 1.0000\n",
            "Epoch 92/100\n",
            "469/469 [==============================] - 5s 11ms/step - loss: 4.5021e-09 - accuracy: 1.0000\n",
            "Epoch 93/100\n",
            "469/469 [==============================] - 5s 10ms/step - loss: 4.5081e-09 - accuracy: 1.0000\n",
            "Epoch 94/100\n",
            "469/469 [==============================] - 5s 10ms/step - loss: 4.5339e-09 - accuracy: 1.0000\n",
            "Epoch 95/100\n",
            "469/469 [==============================] - 5s 10ms/step - loss: 4.5101e-09 - accuracy: 1.0000\n",
            "Epoch 96/100\n",
            "469/469 [==============================] - 6s 12ms/step - loss: 4.4823e-09 - accuracy: 1.0000\n",
            "Epoch 97/100\n",
            "469/469 [==============================] - 5s 10ms/step - loss: 4.4783e-09 - accuracy: 1.0000\n",
            "Epoch 98/100\n",
            "469/469 [==============================] - 5s 11ms/step - loss: 4.4922e-09 - accuracy: 1.0000\n",
            "Epoch 99/100\n",
            "469/469 [==============================] - 5s 11ms/step - loss: 4.5737e-09 - accuracy: 1.0000\n",
            "Epoch 100/100\n",
            "469/469 [==============================] - 5s 11ms/step - loss: 4.5717e-09 - accuracy: 1.0000\n"
          ]
        },
        {
          "output_type": "execute_result",
          "data": {
            "text/plain": [
              "<keras.callbacks.History at 0x7fc9cf520490>"
            ]
          },
          "metadata": {},
          "execution_count": 101
        }
      ]
    },
    {
      "cell_type": "code",
      "source": [
        "import matplotlib.pyplot as plt\n",
        "from tensorflow.keras.utils import load_img\n",
        "from tensorflow.keras.utils import img_to_array\n",
        "url='/content/ao.jpg'\n",
        "img = load_img(url,target_size=(28,28))\n",
        "plt.imshow(img)"
      ],
      "metadata": {
        "colab": {
          "base_uri": "https://localhost:8080/",
          "height": 282
        },
        "id": "ZQ3T-g4rTRUA",
        "outputId": "0cda4c46-0676-44da-f3e2-1d88c0ef6505"
      },
      "execution_count": null,
      "outputs": [
        {
          "output_type": "execute_result",
          "data": {
            "text/plain": [
              "<matplotlib.image.AxesImage at 0x7fc9ca93e250>"
            ]
          },
          "metadata": {},
          "execution_count": 103
        },
        {
          "output_type": "display_data",
          "data": {
            "text/plain": [
              "<Figure size 432x288 with 1 Axes>"
            ],
            "image/png": "[encoded data removed]"
          },
          "metadata": {
            "needs_background": "light"
          }
        }
      ]
    },
    {
      "cell_type": "code",
      "source": [
        "\n",
        "import matplotlib.pyplot as plt\n",
        "from tensorflow.keras.utils import load_img\n",
        "from tensorflow.keras.utils import img_to_array\n",
        "url='/content/ao.jpg'\n",
        "img=load_img(url,target_size=(28,28))\n",
        "img=img_to_array(img)\n",
        "img=img.reshape(1,28,28,3)\n",
        "img=img.astype('float32')\n",
        "img=img/255\n",
        "np.argmax(model.predict(img),axis=1)"
      ],
      "metadata": {
        "colab": {
          "base_uri": "https://localhost:8080/",
          "height": 200
        },
        "id": "XpzdXLOJTuCf",
        "outputId": "d7afc6bc-a253-4c87-9f86-b2c22a131922"
      },
      "execution_count": null,
      "outputs": [
        {
          "output_type": "error",
          "ename": "NameError",
          "evalue": "ignored",
          "traceback": [
            "\u001b[0;31m---------------------------------------------------------------------------\u001b[0m",
            "\u001b[0;31mNameError\u001b[0m                                 Traceback (most recent call last)",
            "\u001b[0;32m<ipython-input-108-457e3c4797ca>\u001b[0m in \u001b[0;36m<module>\u001b[0;34m\u001b[0m\n\u001b[1;32m      8\u001b[0m \u001b[0mimg\u001b[0m\u001b[0;34m=\u001b[0m\u001b[0mimg\u001b[0m\u001b[0;34m.\u001b[0m\u001b[0mastype\u001b[0m\u001b[0;34m(\u001b[0m\u001b[0;34m'float32'\u001b[0m\u001b[0;34m)\u001b[0m\u001b[0;34m\u001b[0m\u001b[0;34m\u001b[0m\u001b[0m\n\u001b[1;32m      9\u001b[0m \u001b[0mimg\u001b[0m\u001b[0;34m=\u001b[0m\u001b[0mimg\u001b[0m\u001b[0;34m/\u001b[0m\u001b[0;36m255\u001b[0m\u001b[0;34m\u001b[0m\u001b[0;34m\u001b[0m\u001b[0m\n\u001b[0;32m---> 10\u001b[0;31m \u001b[0mnp\u001b[0m\u001b[0;34m.\u001b[0m\u001b[0margmax\u001b[0m\u001b[0;34m(\u001b[0m\u001b[0mmodel\u001b[0m\u001b[0;34m.\u001b[0m\u001b[0mpredict\u001b[0m\u001b[0;34m(\u001b[0m\u001b[0mimg\u001b[0m\u001b[0;34m)\u001b[0m\u001b[0;34m,\u001b[0m\u001b[0maxis\u001b[0m\u001b[0;34m=\u001b[0m\u001b[0;36m1\u001b[0m\u001b[0;34m)\u001b[0m\u001b[0;34m\u001b[0m\u001b[0;34m\u001b[0m\u001b[0m\n\u001b[0m",
            "\u001b[0;31mNameError\u001b[0m: name 'np' is not defined"
          ]
        }
      ]
    },
    {
      "cell_type": "code",
      "source": [
        "train_images=train_images.reshape((60000,28*28))\n",
        "train_images=train_images.astype('float32')/255\n",
        "test_images=test_images.reshape((10000,28*28))\n",
        "test_images=test_images.astype('float32')/255\n",
        "train_images.shape\n"
      ],
      "metadata": {
        "colab": {
          "base_uri": "https://localhost:8080/"
        },
        "id": "DEfx5e2QV0Y4",
        "outputId": "a9a6e12d-27ff-4952-bae7-187bb1521c7d"
      },
      "execution_count": null,
      "outputs": [
        {
          "output_type": "execute_result",
          "data": {
            "text/plain": [
              "(60000, 784)"
            ]
          },
          "metadata": {},
          "execution_count": 109
        }
      ]
    },
    {
      "cell_type": "code",
      "source": [
        "import matplotlib.pyplot as plt\n",
        "from tensorflow.keras.utils import load_img\n",
        "from tensorflow.keras.utils import img_to_array\n",
        "img=img_to_array(img)\n",
        "img=img.reshape(1,28,28,3)\n",
        "img=img.astype('float32')\n",
        "img=img/255\n",
        "img=img.reshape(1,784*784)\n",
        "np.argmax(model.predict(img),axis=1)\n"
      ],
      "metadata": {
        "id": "QcsqOvfzV8P8"
      },
      "execution_count": null,
      "outputs": []
    }
  ]
}